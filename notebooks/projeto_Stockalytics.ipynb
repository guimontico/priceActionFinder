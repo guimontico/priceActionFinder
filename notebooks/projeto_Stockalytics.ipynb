{
  "nbformat": 4,
  "nbformat_minor": 0,
  "metadata": {
    "colab": {
      "name": "projeto_Stockalytics.ipynb",
      "provenance": [],
      "collapsed_sections": [],
      "include_colab_link": true
    },
    "kernelspec": {
      "name": "python3",
      "display_name": "Python 3"
    }
  },
  "cells": [
    {
      "cell_type": "markdown",
      "metadata": {
        "id": "view-in-github",
        "colab_type": "text"
      },
      "source": [
        "<a href=\"https://colab.research.google.com/github/guimontico/priceActionFinder/blob/master/notebooks/projeto_Stockalytics.ipynb\" target=\"_parent\"><img src=\"https://colab.research.google.com/assets/colab-badge.svg\" alt=\"Open In Colab\"/></a>"
      ]
    },
    {
      "cell_type": "markdown",
      "metadata": {
        "id": "Wb9rLEi_D6QH",
        "colab_type": "text"
      },
      "source": [
        "# Script para pegar os dados"
      ]
    },
    {
      "cell_type": "code",
      "metadata": {
        "id": "3MpO-YYnFKy2",
        "colab_type": "code",
        "colab": {}
      },
      "source": [
        "#install the alpha vantage API\n",
        "!pip install alpha_vantage"
      ],
      "execution_count": null,
      "outputs": []
    },
    {
      "cell_type": "code",
      "metadata": {
        "id": "0cqGPAW7FLm_",
        "colab_type": "code",
        "colab": {}
      },
      "source": [
        "#import libraries\n",
        "from alpha_vantage.foreignexchange import ForeignExchange\n",
        "from alpha_vantage.timeseries import TimeSeries\n",
        "import matplotlib.pyplot as plt\n",
        "import pandas as pd\n",
        "from pandas import DataFrame"
      ],
      "execution_count": 22,
      "outputs": []
    },
    {
      "cell_type": "code",
      "metadata": {
        "id": "4nebVEEs9B1P",
        "colab_type": "code",
        "colab": {
          "base_uri": "https://localhost:8080/",
          "height": 51
        },
        "outputId": "d26d91ff-6638-43a7-e4a7-fe476072ada3"
      },
      "source": [
        "from pandas_datareader import data as web\n",
        "import plotly.graph_objects as go"
      ],
      "execution_count": 61,
      "outputs": [
        {
          "output_type": "stream",
          "text": [
            "/usr/local/lib/python3.6/dist-packages/pandas_datareader/compat/__init__.py:7: FutureWarning: pandas.util.testing is deprecated. Use the functions in the public API at pandas.testing instead.\n",
            "  from pandas.util.testing import assert_frame_equal\n"
          ],
          "name": "stderr"
        }
      ]
    },
    {
      "cell_type": "code",
      "metadata": {
        "id": "gEu0esmaFdu-",
        "colab_type": "code",
        "colab": {}
      },
      "source": [
        "#set the key and the output format \n",
        "ALPHA_VANTAGE_API_KEY = 'FAMIMUBSM0W9GBRE'\n",
        "ts = TimeSeries(key=ALPHA_VANTAGE_API_KEY, output_format='pandas')"
      ],
      "execution_count": 23,
      "outputs": []
    },
    {
      "cell_type": "code",
      "metadata": {
        "id": "sTs1spw_UorY",
        "colab_type": "code",
        "colab": {}
      },
      "source": [
        "#selected the company: Petrobras (PBR)\n",
        "intraday_data, data_info = ts.get_intraday(symbol='EURUSD', outputsize='full', interval='15min')\n",
        "\n",
        "#Export the result to a csv\n",
        "intraday_data_PBR.to_csv('PBR_new.csv')"
      ],
      "execution_count": 124,
      "outputs": []
    },
    {
      "cell_type": "code",
      "metadata": {
        "id": "JekBvQKHzzEM",
        "colab_type": "code",
        "colab": {}
      },
      "source": [
        "# #Verifying all the data\n",
        "# plt.figure(figsize=(25,7))\n",
        "# intraday_data['1. open'].plot()\n",
        "# plt.xticks(rotation='45', fontsize = 8)\n",
        "# plt.ylabel('Stock Price (R$)')\n",
        "# plt.xlabel('Date')\n",
        "# plt.title('Intraday (1 min)')\n",
        "# plt.show()"
      ],
      "execution_count": 125,
      "outputs": []
    },
    {
      "cell_type": "code",
      "metadata": {
        "id": "uezXR65ozhg0",
        "colab_type": "code",
        "colab": {}
      },
      "source": [
        "#looking at the dataset\n",
        "intraday_data = intraday_data.sort_values(by='date', ascending=True)"
      ],
      "execution_count": 126,
      "outputs": []
    },
    {
      "cell_type": "code",
      "metadata": {
        "id": "NtT5nEAv9k05",
        "colab_type": "code",
        "colab": {}
      },
      "source": [
        "intraday_data.columns = ['Open', 'High', 'Low', 'Close', 'volume'] \n",
        "#intraday_data.head()"
      ],
      "execution_count": 127,
      "outputs": []
    },
    {
      "cell_type": "markdown",
      "metadata": {
        "id": "LbS8s3GSEBBo",
        "colab_type": "text"
      },
      "source": [
        "# Script para plotar o gráfico"
      ]
    },
    {
      "cell_type": "code",
      "metadata": {
        "id": "iuC1__nH81gc",
        "colab_type": "code",
        "colab": {}
      },
      "source": [
        "trace1 = {\n",
        "    'x': intraday_data.index,\n",
        "    'open': intraday_data.Open,\n",
        "    'close': intraday_data.Close,\n",
        "    'high': intraday_data.High,\n",
        "    'low': intraday_data.Low,\n",
        "    'type': 'candlestick',\n",
        "    'name': 'PBR',\n",
        "    'showlegend': True\n",
        "}"
      ],
      "execution_count": 128,
      "outputs": []
    },
    {
      "cell_type": "code",
      "metadata": {
        "id": "cuBnoC1696MH",
        "colab_type": "code",
        "colab": {}
      },
      "source": [
        "data = [trace1]\n",
        "# Config graph layout\n",
        "layout = go.Layout({\n",
        "    'title': {\n",
        "        'text': 'USD/JPY',\n",
        "        'font': {\n",
        "            'size': 10\n",
        "        }\n",
        "    }\n",
        "})"
      ],
      "execution_count": 129,
      "outputs": []
    },
    {
      "cell_type": "code",
      "metadata": {
        "id": "bAzy_GuA989r",
        "colab_type": "code",
        "colab": {
          "base_uri": "https://localhost:8080/",
          "height": 817
        },
        "outputId": "fed7a61b-f850-4e46-d847-0507b06a97ef"
      },
      "source": [
        "fig = go.Figure(data=data, layout=layout)\n",
        "fig.update_layout(\n",
        "    autosize=False,\n",
        "    width=1200,\n",
        "    height=800,)\n",
        "fig.write_html(\"a.html\")\n",
        "fig.show()"
      ],
      "execution_count": 131,
      "outputs": [
        {
          "output_type": "display_data",
          "data": {
            "text/html": [
              "<html>\n",
              "<head><meta charset=\"utf-8\" /></head>\n",
              "<body>\n",
              "    <div>\n",
              "            <script src=\"https://cdnjs.cloudflare.com/ajax/libs/mathjax/2.7.5/MathJax.js?config=TeX-AMS-MML_SVG\"></script><script type=\"text/javascript\">if (window.MathJax) {MathJax.Hub.Config({SVG: {font: \"STIX-Web\"}});}</script>\n",
              "                <script type=\"text/javascript\">window.PlotlyConfig = {MathJaxConfig: 'local'};</script>\n",
              "        <script src=\"https://cdn.plot.ly/plotly-latest.min.js\"></script>    \n",
              "            <div id=\"3686821d-12ae-46ac-8cc1-718cf7e111a4\" class=\"plotly-graph-div\" style=\"height:800px; width:1200px;\"></div>\n",
              "            <script type=\"text/javascript\">\n",
              "                \n",
              "                    window.PLOTLYENV=window.PLOTLYENV || {};\n",
              "                    \n",
              "                if (document.getElementById(\"3686821d-12ae-46ac-8cc1-718cf7e111a4\")) {\n",
              "                    Plotly.newPlot(\n",
              "                        '3686821d-12ae-46ac-8cc1-718cf7e111a4',\n",
              "                        [{\"close\": [1.1411, 1.1414, 1.141, 1.1403, 1.1401, 1.1403, 1.1404, 1.1405, 1.1406, 1.1404, 1.1403, 1.1404, 1.1406, 1.1406, 1.1405, 1.14, 1.1401, 1.1403, 1.1399, 1.1395, 1.1396, 1.1398, 1.1401, 1.1403, 1.141, 1.1408, 1.1414, 1.1406, 1.1388, 1.1393, 1.1396, 1.1395, 1.1388, 1.138, 1.1385, 1.1384, 1.1393, 1.1395, 1.1399, 1.1404, 1.1395, 1.1413, 1.1413, 1.1413, 1.1417, 1.1411, 1.1409, 1.1413, 1.1425, 1.1429, 1.1429, 1.1438, 1.1435, 1.1432, 1.1425, 1.1429, 1.1432, 1.1432, 1.1431, 1.1419, 1.1416, 1.1409, 1.1397, 1.1392, 1.138, 1.1382, 1.1382, 1.1379, 1.1382, 1.1379, 1.1373, 1.1384, 1.1379, 1.1382, 1.138, 1.1383, 1.1383, 1.1383, 1.1378, 1.1379, 1.1377, 1.1379, 1.1382, 1.1381, 1.1383, 1.1384, 1.1385, 1.1385, 1.1387, 1.1387, 1.1393, 1.1389, 1.1391, 1.1384, 1.1382, 1.138, 1.138, 1.1381, 1.1382, 1.1385, 1.1385, 1.1385, 1.1384, 1.1385, 1.1388, 1.1392, 1.1386, 1.1387, 1.1386, 1.1387, 1.1385, 1.1383, 1.1387, 1.138, 1.1383, 1.1383, 1.1381, 1.1382, 1.1389, 1.1388, 1.139, 1.139, 1.1396, 1.1397, 1.1408, 1.1416, 1.1414, 1.1418, 1.1418, 1.1413, 1.1413, 1.1415, 1.1421, 1.1428, 1.1423, 1.1425, 1.1423, 1.1421, 1.1427, 1.1424, 1.142, 1.1419, 1.1422, 1.1424, 1.1429, 1.1431, 1.1436, 1.1434, 1.1438, 1.1421, 1.1431, 1.1433, 1.1432, 1.1437, 1.1434, 1.1432, 1.1436, 1.1435, 1.1439, 1.1439, 1.1437, 1.1436, 1.1438, 1.1439, 1.1443], \"high\": [1.1417, 1.1417, 1.1417, 1.1411, 1.1405, 1.1404, 1.1406, 1.1406, 1.1407, 1.1407, 1.1406, 1.1406, 1.1406, 1.1407, 1.1407, 1.1405, 1.1402, 1.1404, 1.1407, 1.14, 1.1397, 1.1403, 1.1405, 1.1405, 1.1411, 1.1411, 1.1416, 1.1414, 1.1406, 1.1395, 1.1396, 1.14, 1.1398, 1.1393, 1.1388, 1.1389, 1.1393, 1.1395, 1.14, 1.1406, 1.141, 1.1418, 1.1415, 1.1417, 1.1425, 1.1422, 1.1418, 1.1415, 1.1426, 1.1434, 1.1432, 1.1441, 1.1442, 1.1439, 1.1434, 1.1431, 1.1433, 1.1434, 1.1436, 1.1431, 1.1421, 1.1419, 1.141, 1.1399, 1.1392, 1.1387, 1.1383, 1.1384, 1.1383, 1.1382, 1.138, 1.1384, 1.1384, 1.1382, 1.1383, 1.1384, 1.1385, 1.1385, 1.1384, 1.1382, 1.138, 1.1384, 1.1384, 1.1384, 1.1384, 1.1385, 1.1386, 1.1386, 1.1387, 1.1389, 1.1393, 1.1393, 1.1392, 1.1392, 1.1385, 1.1382, 1.1382, 1.1382, 1.1384, 1.1387, 1.1387, 1.1386, 1.1386, 1.1387, 1.139, 1.1392, 1.1394, 1.1389, 1.1389, 1.1388, 1.1388, 1.1386, 1.1387, 1.1387, 1.1384, 1.1385, 1.1386, 1.1385, 1.139, 1.139, 1.1396, 1.1395, 1.1397, 1.1399, 1.1408, 1.1418, 1.1418, 1.142, 1.1424, 1.1418, 1.1418, 1.1416, 1.1425, 1.1429, 1.143, 1.1428, 1.1428, 1.1423, 1.1428, 1.143, 1.1427, 1.1422, 1.1427, 1.1427, 1.143, 1.1434, 1.144, 1.1437, 1.1439, 1.1439, 1.1433, 1.1434, 1.1434, 1.1438, 1.1439, 1.1437, 1.1439, 1.1443, 1.1442, 1.1441, 1.1441, 1.1441, 1.1439, 1.144, 1.1444], \"low\": [1.1408, 1.1409, 1.1408, 1.1401, 1.1399, 1.1399, 1.1401, 1.14, 1.1403, 1.1402, 1.1401, 1.1401, 1.1401, 1.1404, 1.1402, 1.1397, 1.1396, 1.1398, 1.1397, 1.1391, 1.1392, 1.1393, 1.1395, 1.1395, 1.1397, 1.1403, 1.1404, 1.1404, 1.1385, 1.1384, 1.139, 1.1392, 1.1387, 1.1379, 1.1377, 1.1382, 1.1381, 1.139, 1.1392, 1.1397, 1.1395, 1.1395, 1.1408, 1.1409, 1.1404, 1.1406, 1.1401, 1.1398, 1.1408, 1.1424, 1.1424, 1.1423, 1.1432, 1.1428, 1.142, 1.1423, 1.1425, 1.1428, 1.1426, 1.1417, 1.1412, 1.1407, 1.1395, 1.1387, 1.1375, 1.1377, 1.1374, 1.1378, 1.1378, 1.1374, 1.1369, 1.1372, 1.1375, 1.1375, 1.1377, 1.1378, 1.1381, 1.138, 1.1376, 1.1374, 1.1375, 1.1375, 1.1378, 1.138, 1.138, 1.1382, 1.1382, 1.1382, 1.1383, 1.1385, 1.1383, 1.1387, 1.1387, 1.1381, 1.1378, 1.1376, 1.1376, 1.1376, 1.1378, 1.138, 1.1382, 1.1382, 1.1382, 1.1382, 1.1384, 1.1387, 1.1385, 1.1385, 1.1384, 1.1384, 1.1383, 1.1381, 1.1381, 1.1376, 1.1376, 1.1378, 1.1379, 1.1379, 1.1378, 1.1385, 1.1386, 1.1381, 1.1386, 1.1395, 1.1397, 1.1405, 1.1411, 1.141, 1.1415, 1.141, 1.1408, 1.1409, 1.1413, 1.1418, 1.1421, 1.1422, 1.1419, 1.1419, 1.1418, 1.142, 1.1419, 1.1415, 1.1414, 1.1417, 1.1421, 1.1425, 1.1429, 1.1429, 1.1432, 1.1418, 1.1419, 1.1424, 1.1424, 1.1429, 1.1432, 1.1429, 1.1428, 1.1433, 1.1434, 1.1434, 1.1434, 1.1435, 1.1434, 1.1436, 1.1436], \"name\": \"PBR\", \"open\": [1.1413, 1.1411, 1.1414, 1.141, 1.1403, 1.1401, 1.1403, 1.1404, 1.1405, 1.1405, 1.1405, 1.1402, 1.1405, 1.1406, 1.1406, 1.1404, 1.14, 1.1402, 1.1403, 1.1399, 1.1394, 1.1396, 1.1398, 1.1401, 1.1403, 1.1409, 1.1407, 1.1414, 1.1406, 1.1388, 1.1393, 1.1396, 1.1395, 1.1389, 1.1381, 1.1385, 1.1384, 1.1393, 1.1394, 1.1399, 1.1404, 1.1398, 1.1413, 1.1413, 1.1413, 1.1416, 1.1411, 1.1409, 1.1412, 1.1425, 1.1429, 1.1429, 1.1438, 1.1435, 1.1432, 1.1424, 1.1429, 1.1432, 1.1432, 1.143, 1.1419, 1.1417, 1.1409, 1.1399, 1.1392, 1.1381, 1.1382, 1.1382, 1.1381, 1.1381, 1.1379, 1.1374, 1.1384, 1.1379, 1.1382, 1.138, 1.1383, 1.1384, 1.1384, 1.1379, 1.1379, 1.1377, 1.1379, 1.1383, 1.1382, 1.1384, 1.1385, 1.1385, 1.1385, 1.1386, 1.1388, 1.1393, 1.139, 1.1391, 1.1385, 1.1382, 1.138, 1.138, 1.1381, 1.1383, 1.1385, 1.1385, 1.1385, 1.1385, 1.1386, 1.1389, 1.1392, 1.1387, 1.1388, 1.1387, 1.1387, 1.1385, 1.1384, 1.1387, 1.138, 1.1382, 1.1384, 1.1383, 1.1382, 1.1389, 1.1388, 1.1391, 1.139, 1.1396, 1.1399, 1.1408, 1.1416, 1.1414, 1.1418, 1.1418, 1.1413, 1.1414, 1.1415, 1.1422, 1.1428, 1.1424, 1.1425, 1.1422, 1.1422, 1.1427, 1.1423, 1.142, 1.1419, 1.1422, 1.1425, 1.1429, 1.1431, 1.1437, 1.1434, 1.1438, 1.1421, 1.143, 1.1434, 1.1431, 1.1437, 1.1434, 1.1432, 1.1438, 1.1436, 1.144, 1.1439, 1.1437, 1.1437, 1.1438, 1.1439], \"showlegend\": true, \"type\": \"candlestick\", \"x\": [\"2020-07-15T21:30:00\", \"2020-07-15T21:45:00\", \"2020-07-15T22:00:00\", \"2020-07-15T22:15:00\", \"2020-07-15T22:30:00\", \"2020-07-15T22:45:00\", \"2020-07-15T23:00:00\", \"2020-07-15T23:15:00\", \"2020-07-15T23:30:00\", \"2020-07-15T23:45:00\", \"2020-07-16T00:00:00\", \"2020-07-16T00:15:00\", \"2020-07-16T00:30:00\", \"2020-07-16T00:45:00\", \"2020-07-16T01:00:00\", \"2020-07-16T01:15:00\", \"2020-07-16T01:30:00\", \"2020-07-16T01:45:00\", \"2020-07-16T02:00:00\", \"2020-07-16T02:15:00\", \"2020-07-16T02:30:00\", \"2020-07-16T02:45:00\", \"2020-07-16T03:00:00\", \"2020-07-16T03:15:00\", \"2020-07-16T03:30:00\", \"2020-07-16T03:45:00\", \"2020-07-16T04:00:00\", \"2020-07-16T04:15:00\", \"2020-07-16T04:30:00\", \"2020-07-16T04:45:00\", \"2020-07-16T05:00:00\", \"2020-07-16T05:15:00\", \"2020-07-16T05:30:00\", \"2020-07-16T05:45:00\", \"2020-07-16T06:00:00\", \"2020-07-16T06:15:00\", \"2020-07-16T06:30:00\", \"2020-07-16T06:45:00\", \"2020-07-16T07:00:00\", \"2020-07-16T07:15:00\", \"2020-07-16T07:30:00\", \"2020-07-16T07:45:00\", \"2020-07-16T08:00:00\", \"2020-07-16T08:15:00\", \"2020-07-16T08:30:00\", \"2020-07-16T08:45:00\", \"2020-07-16T09:00:00\", \"2020-07-16T09:15:00\", \"2020-07-16T09:30:00\", \"2020-07-16T09:45:00\", \"2020-07-16T10:00:00\", \"2020-07-16T10:15:00\", \"2020-07-16T10:30:00\", \"2020-07-16T10:45:00\", \"2020-07-16T11:00:00\", \"2020-07-16T11:15:00\", \"2020-07-16T11:30:00\", \"2020-07-16T11:45:00\", \"2020-07-16T12:00:00\", \"2020-07-16T12:15:00\", \"2020-07-16T12:30:00\", \"2020-07-16T12:45:00\", \"2020-07-16T13:00:00\", \"2020-07-16T13:15:00\", \"2020-07-16T13:30:00\", \"2020-07-16T13:45:00\", \"2020-07-16T14:00:00\", \"2020-07-16T14:15:00\", \"2020-07-16T14:30:00\", \"2020-07-16T14:45:00\", \"2020-07-16T15:00:00\", \"2020-07-16T15:15:00\", \"2020-07-16T15:30:00\", \"2020-07-16T15:45:00\", \"2020-07-16T16:00:00\", \"2020-07-16T16:15:00\", \"2020-07-16T16:30:00\", \"2020-07-16T16:45:00\", \"2020-07-16T17:00:00\", \"2020-07-16T17:15:00\", \"2020-07-16T17:30:00\", \"2020-07-16T17:45:00\", \"2020-07-16T18:00:00\", \"2020-07-16T18:15:00\", \"2020-07-16T18:30:00\", \"2020-07-16T18:45:00\", \"2020-07-16T19:00:00\", \"2020-07-16T19:15:00\", \"2020-07-16T19:30:00\", \"2020-07-16T19:45:00\", \"2020-07-16T20:00:00\", \"2020-07-16T20:15:00\", \"2020-07-16T20:30:00\", \"2020-07-16T20:45:00\", \"2020-07-16T21:00:00\", \"2020-07-16T21:15:00\", \"2020-07-16T21:30:00\", \"2020-07-16T21:45:00\", \"2020-07-16T22:00:00\", \"2020-07-16T22:15:00\", \"2020-07-16T22:30:00\", \"2020-07-16T22:45:00\", \"2020-07-16T23:00:00\", \"2020-07-16T23:15:00\", \"2020-07-16T23:30:00\", \"2020-07-16T23:45:00\", \"2020-07-17T00:00:00\", \"2020-07-17T00:15:00\", \"2020-07-17T00:30:00\", \"2020-07-17T00:45:00\", \"2020-07-17T01:00:00\", \"2020-07-17T01:15:00\", \"2020-07-17T01:30:00\", \"2020-07-17T01:45:00\", \"2020-07-17T02:00:00\", \"2020-07-17T02:15:00\", \"2020-07-17T02:30:00\", \"2020-07-17T02:45:00\", \"2020-07-17T03:00:00\", \"2020-07-17T03:15:00\", \"2020-07-17T03:30:00\", \"2020-07-17T03:45:00\", \"2020-07-17T04:00:00\", \"2020-07-17T04:15:00\", \"2020-07-17T04:30:00\", \"2020-07-17T04:45:00\", \"2020-07-17T05:00:00\", \"2020-07-17T05:15:00\", \"2020-07-17T05:30:00\", \"2020-07-17T05:45:00\", \"2020-07-17T06:00:00\", \"2020-07-17T06:15:00\", \"2020-07-17T06:30:00\", \"2020-07-17T06:45:00\", \"2020-07-17T07:00:00\", \"2020-07-17T07:15:00\", \"2020-07-17T07:30:00\", \"2020-07-17T07:45:00\", \"2020-07-17T08:00:00\", \"2020-07-17T08:15:00\", \"2020-07-17T08:30:00\", \"2020-07-17T08:45:00\", \"2020-07-17T09:00:00\", \"2020-07-17T09:15:00\", \"2020-07-17T09:30:00\", \"2020-07-17T09:45:00\", \"2020-07-17T10:00:00\", \"2020-07-17T10:15:00\", \"2020-07-17T10:30:00\", \"2020-07-17T10:45:00\", \"2020-07-17T11:00:00\", \"2020-07-17T11:15:00\", \"2020-07-17T11:30:00\", \"2020-07-17T11:45:00\", \"2020-07-17T12:00:00\", \"2020-07-17T12:15:00\", \"2020-07-17T12:30:00\", \"2020-07-17T12:45:00\", \"2020-07-17T13:00:00\", \"2020-07-17T13:15:00\", \"2020-07-17T13:30:00\", \"2020-07-17T13:45:00\", \"2020-07-17T14:00:00\", \"2020-07-17T14:15:00\", \"2020-07-17T14:30:00\"]}],\n",
              "                        {\"autosize\": false, \"height\": 800, \"template\": {\"data\": {\"bar\": [{\"error_x\": {\"color\": \"#2a3f5f\"}, \"error_y\": {\"color\": \"#2a3f5f\"}, \"marker\": {\"line\": {\"color\": \"#E5ECF6\", \"width\": 0.5}}, \"type\": \"bar\"}], \"barpolar\": [{\"marker\": {\"line\": {\"color\": \"#E5ECF6\", \"width\": 0.5}}, \"type\": \"barpolar\"}], \"carpet\": [{\"aaxis\": {\"endlinecolor\": \"#2a3f5f\", \"gridcolor\": \"white\", \"linecolor\": \"white\", \"minorgridcolor\": \"white\", \"startlinecolor\": \"#2a3f5f\"}, \"baxis\": {\"endlinecolor\": \"#2a3f5f\", \"gridcolor\": \"white\", \"linecolor\": \"white\", \"minorgridcolor\": \"white\", \"startlinecolor\": \"#2a3f5f\"}, \"type\": \"carpet\"}], \"choropleth\": [{\"colorbar\": {\"outlinewidth\": 0, \"ticks\": \"\"}, \"type\": \"choropleth\"}], \"contour\": [{\"colorbar\": {\"outlinewidth\": 0, \"ticks\": \"\"}, \"colorscale\": [[0.0, \"#0d0887\"], [0.1111111111111111, \"#46039f\"], [0.2222222222222222, \"#7201a8\"], [0.3333333333333333, \"#9c179e\"], [0.4444444444444444, \"#bd3786\"], [0.5555555555555556, \"#d8576b\"], [0.6666666666666666, \"#ed7953\"], [0.7777777777777778, \"#fb9f3a\"], [0.8888888888888888, \"#fdca26\"], [1.0, \"#f0f921\"]], \"type\": \"contour\"}], \"contourcarpet\": [{\"colorbar\": {\"outlinewidth\": 0, \"ticks\": \"\"}, \"type\": \"contourcarpet\"}], \"heatmap\": [{\"colorbar\": {\"outlinewidth\": 0, \"ticks\": \"\"}, \"colorscale\": [[0.0, \"#0d0887\"], [0.1111111111111111, \"#46039f\"], [0.2222222222222222, \"#7201a8\"], [0.3333333333333333, \"#9c179e\"], [0.4444444444444444, \"#bd3786\"], [0.5555555555555556, \"#d8576b\"], [0.6666666666666666, \"#ed7953\"], [0.7777777777777778, \"#fb9f3a\"], [0.8888888888888888, \"#fdca26\"], [1.0, \"#f0f921\"]], \"type\": \"heatmap\"}], \"heatmapgl\": [{\"colorbar\": {\"outlinewidth\": 0, \"ticks\": \"\"}, \"colorscale\": [[0.0, \"#0d0887\"], [0.1111111111111111, \"#46039f\"], [0.2222222222222222, \"#7201a8\"], [0.3333333333333333, \"#9c179e\"], [0.4444444444444444, \"#bd3786\"], [0.5555555555555556, \"#d8576b\"], [0.6666666666666666, \"#ed7953\"], [0.7777777777777778, \"#fb9f3a\"], [0.8888888888888888, \"#fdca26\"], [1.0, \"#f0f921\"]], \"type\": \"heatmapgl\"}], \"histogram\": [{\"marker\": {\"colorbar\": {\"outlinewidth\": 0, \"ticks\": \"\"}}, \"type\": \"histogram\"}], \"histogram2d\": [{\"colorbar\": {\"outlinewidth\": 0, \"ticks\": \"\"}, \"colorscale\": [[0.0, \"#0d0887\"], [0.1111111111111111, \"#46039f\"], [0.2222222222222222, \"#7201a8\"], [0.3333333333333333, \"#9c179e\"], [0.4444444444444444, \"#bd3786\"], [0.5555555555555556, \"#d8576b\"], [0.6666666666666666, \"#ed7953\"], [0.7777777777777778, \"#fb9f3a\"], [0.8888888888888888, \"#fdca26\"], [1.0, \"#f0f921\"]], \"type\": \"histogram2d\"}], \"histogram2dcontour\": [{\"colorbar\": {\"outlinewidth\": 0, \"ticks\": \"\"}, \"colorscale\": [[0.0, \"#0d0887\"], [0.1111111111111111, \"#46039f\"], [0.2222222222222222, \"#7201a8\"], [0.3333333333333333, \"#9c179e\"], [0.4444444444444444, \"#bd3786\"], [0.5555555555555556, \"#d8576b\"], [0.6666666666666666, \"#ed7953\"], [0.7777777777777778, \"#fb9f3a\"], [0.8888888888888888, \"#fdca26\"], [1.0, \"#f0f921\"]], \"type\": \"histogram2dcontour\"}], \"mesh3d\": [{\"colorbar\": {\"outlinewidth\": 0, \"ticks\": \"\"}, \"type\": \"mesh3d\"}], \"parcoords\": [{\"line\": {\"colorbar\": {\"outlinewidth\": 0, \"ticks\": \"\"}}, \"type\": \"parcoords\"}], \"pie\": [{\"automargin\": true, \"type\": \"pie\"}], \"scatter\": [{\"marker\": {\"colorbar\": {\"outlinewidth\": 0, \"ticks\": \"\"}}, \"type\": \"scatter\"}], \"scatter3d\": [{\"line\": {\"colorbar\": {\"outlinewidth\": 0, \"ticks\": \"\"}}, \"marker\": {\"colorbar\": {\"outlinewidth\": 0, \"ticks\": \"\"}}, \"type\": \"scatter3d\"}], \"scattercarpet\": [{\"marker\": {\"colorbar\": {\"outlinewidth\": 0, \"ticks\": \"\"}}, \"type\": \"scattercarpet\"}], \"scattergeo\": [{\"marker\": {\"colorbar\": {\"outlinewidth\": 0, \"ticks\": \"\"}}, \"type\": \"scattergeo\"}], \"scattergl\": [{\"marker\": {\"colorbar\": {\"outlinewidth\": 0, \"ticks\": \"\"}}, \"type\": \"scattergl\"}], \"scattermapbox\": [{\"marker\": {\"colorbar\": {\"outlinewidth\": 0, \"ticks\": \"\"}}, \"type\": \"scattermapbox\"}], \"scatterpolar\": [{\"marker\": {\"colorbar\": {\"outlinewidth\": 0, \"ticks\": \"\"}}, \"type\": \"scatterpolar\"}], \"scatterpolargl\": [{\"marker\": {\"colorbar\": {\"outlinewidth\": 0, \"ticks\": \"\"}}, \"type\": \"scatterpolargl\"}], \"scatterternary\": [{\"marker\": {\"colorbar\": {\"outlinewidth\": 0, \"ticks\": \"\"}}, \"type\": \"scatterternary\"}], \"surface\": [{\"colorbar\": {\"outlinewidth\": 0, \"ticks\": \"\"}, \"colorscale\": [[0.0, \"#0d0887\"], [0.1111111111111111, \"#46039f\"], [0.2222222222222222, \"#7201a8\"], [0.3333333333333333, \"#9c179e\"], [0.4444444444444444, \"#bd3786\"], [0.5555555555555556, \"#d8576b\"], [0.6666666666666666, \"#ed7953\"], [0.7777777777777778, \"#fb9f3a\"], [0.8888888888888888, \"#fdca26\"], [1.0, \"#f0f921\"]], \"type\": \"surface\"}], \"table\": [{\"cells\": {\"fill\": {\"color\": \"#EBF0F8\"}, \"line\": {\"color\": \"white\"}}, \"header\": {\"fill\": {\"color\": \"#C8D4E3\"}, \"line\": {\"color\": \"white\"}}, \"type\": \"table\"}]}, \"layout\": {\"annotationdefaults\": {\"arrowcolor\": \"#2a3f5f\", \"arrowhead\": 0, \"arrowwidth\": 1}, \"coloraxis\": {\"colorbar\": {\"outlinewidth\": 0, \"ticks\": \"\"}}, \"colorscale\": {\"diverging\": [[0, \"#8e0152\"], [0.1, \"#c51b7d\"], [0.2, \"#de77ae\"], [0.3, \"#f1b6da\"], [0.4, \"#fde0ef\"], [0.5, \"#f7f7f7\"], [0.6, \"#e6f5d0\"], [0.7, \"#b8e186\"], [0.8, \"#7fbc41\"], [0.9, \"#4d9221\"], [1, \"#276419\"]], \"sequential\": [[0.0, \"#0d0887\"], [0.1111111111111111, \"#46039f\"], [0.2222222222222222, \"#7201a8\"], [0.3333333333333333, \"#9c179e\"], [0.4444444444444444, \"#bd3786\"], [0.5555555555555556, \"#d8576b\"], [0.6666666666666666, \"#ed7953\"], [0.7777777777777778, \"#fb9f3a\"], [0.8888888888888888, \"#fdca26\"], [1.0, \"#f0f921\"]], \"sequentialminus\": [[0.0, \"#0d0887\"], [0.1111111111111111, \"#46039f\"], [0.2222222222222222, \"#7201a8\"], [0.3333333333333333, \"#9c179e\"], [0.4444444444444444, \"#bd3786\"], [0.5555555555555556, \"#d8576b\"], [0.6666666666666666, \"#ed7953\"], [0.7777777777777778, \"#fb9f3a\"], [0.8888888888888888, \"#fdca26\"], [1.0, \"#f0f921\"]]}, \"colorway\": [\"#636efa\", \"#EF553B\", \"#00cc96\", \"#ab63fa\", \"#FFA15A\", \"#19d3f3\", \"#FF6692\", \"#B6E880\", \"#FF97FF\", \"#FECB52\"], \"font\": {\"color\": \"#2a3f5f\"}, \"geo\": {\"bgcolor\": \"white\", \"lakecolor\": \"white\", \"landcolor\": \"#E5ECF6\", \"showlakes\": true, \"showland\": true, \"subunitcolor\": \"white\"}, \"hoverlabel\": {\"align\": \"left\"}, \"hovermode\": \"closest\", \"mapbox\": {\"style\": \"light\"}, \"paper_bgcolor\": \"white\", \"plot_bgcolor\": \"#E5ECF6\", \"polar\": {\"angularaxis\": {\"gridcolor\": \"white\", \"linecolor\": \"white\", \"ticks\": \"\"}, \"bgcolor\": \"#E5ECF6\", \"radialaxis\": {\"gridcolor\": \"white\", \"linecolor\": \"white\", \"ticks\": \"\"}}, \"scene\": {\"xaxis\": {\"backgroundcolor\": \"#E5ECF6\", \"gridcolor\": \"white\", \"gridwidth\": 2, \"linecolor\": \"white\", \"showbackground\": true, \"ticks\": \"\", \"zerolinecolor\": \"white\"}, \"yaxis\": {\"backgroundcolor\": \"#E5ECF6\", \"gridcolor\": \"white\", \"gridwidth\": 2, \"linecolor\": \"white\", \"showbackground\": true, \"ticks\": \"\", \"zerolinecolor\": \"white\"}, \"zaxis\": {\"backgroundcolor\": \"#E5ECF6\", \"gridcolor\": \"white\", \"gridwidth\": 2, \"linecolor\": \"white\", \"showbackground\": true, \"ticks\": \"\", \"zerolinecolor\": \"white\"}}, \"shapedefaults\": {\"line\": {\"color\": \"#2a3f5f\"}}, \"ternary\": {\"aaxis\": {\"gridcolor\": \"white\", \"linecolor\": \"white\", \"ticks\": \"\"}, \"baxis\": {\"gridcolor\": \"white\", \"linecolor\": \"white\", \"ticks\": \"\"}, \"bgcolor\": \"#E5ECF6\", \"caxis\": {\"gridcolor\": \"white\", \"linecolor\": \"white\", \"ticks\": \"\"}}, \"title\": {\"x\": 0.05}, \"xaxis\": {\"automargin\": true, \"gridcolor\": \"white\", \"linecolor\": \"white\", \"ticks\": \"\", \"title\": {\"standoff\": 15}, \"zerolinecolor\": \"white\", \"zerolinewidth\": 2}, \"yaxis\": {\"automargin\": true, \"gridcolor\": \"white\", \"linecolor\": \"white\", \"ticks\": \"\", \"title\": {\"standoff\": 15}, \"zerolinecolor\": \"white\", \"zerolinewidth\": 2}}}, \"title\": {\"font\": {\"size\": 10}, \"text\": \"USD/JPY\"}, \"width\": 1200},\n",
              "                        {\"responsive\": true}\n",
              "                    ).then(function(){\n",
              "                            \n",
              "var gd = document.getElementById('3686821d-12ae-46ac-8cc1-718cf7e111a4');\n",
              "var x = new MutationObserver(function (mutations, observer) {{\n",
              "        var display = window.getComputedStyle(gd).display;\n",
              "        if (!display || display === 'none') {{\n",
              "            console.log([gd, 'removed!']);\n",
              "            Plotly.purge(gd);\n",
              "            observer.disconnect();\n",
              "        }}\n",
              "}});\n",
              "\n",
              "// Listen for the removal of the full notebook cells\n",
              "var notebookContainer = gd.closest('#notebook-container');\n",
              "if (notebookContainer) {{\n",
              "    x.observe(notebookContainer, {childList: true});\n",
              "}}\n",
              "\n",
              "// Listen for the clearing of the current output cell\n",
              "var outputEl = gd.closest('.output');\n",
              "if (outputEl) {{\n",
              "    x.observe(outputEl, {childList: true});\n",
              "}}\n",
              "\n",
              "                        })\n",
              "                };\n",
              "                \n",
              "            </script>\n",
              "        </div>\n",
              "</body>\n",
              "</html>"
            ]
          },
          "metadata": {
            "tags": []
          }
        }
      ]
    }
  ]
}